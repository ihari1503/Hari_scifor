{
  "nbformat": 4,
  "nbformat_minor": 0,
  "metadata": {
    "colab": {
      "provenance": []
    },
    "kernelspec": {
      "name": "python3",
      "display_name": "Python 3"
    },
    "language_info": {
      "name": "python"
    }
  },
  "cells": [
    {
      "cell_type": "code",
      "execution_count": 15,
      "metadata": {
        "colab": {
          "base_uri": "https://localhost:8080/"
        },
        "id": "5vHemEJsHAxY",
        "outputId": "8162d559-e981-4b93-ca41-fb62baa5dff8"
      },
      "outputs": [
        {
          "output_type": "stream",
          "name": "stdout",
          "text": [
            "Debit card services\n",
            "Withdrawl from amount 8653\n",
            " the payable due 9653\n",
            "\n",
            "Outstanding limit is 13500\n",
            "\n",
            "Withdrawl from amount 8653\n",
            "\n",
            " the payable due 9653\n",
            "\n",
            "Outstanding limit is 13500\n",
            "\n",
            "\n",
            "existing balance to be paid this month is 8960\n"
          ]
        }
      ],
      "source": [
        "class bank:\n",
        "  def __init__(self,pin):\n",
        "    self.pin = pin\n",
        "\n",
        "class debit(bank):\n",
        "  def display(self):\n",
        "    print(\"Debit card services\")\n",
        "\n",
        "class debit_services(debit):\n",
        "    def selection(self,):\n",
        "      print(\"Withdrawl from amount 8653\")\n",
        "\n",
        "\n",
        "class credit(bank):\n",
        "  def display(self):\n",
        "    print(\"Credit Card services\")\n",
        "\n",
        "class credit_services(credit):\n",
        "  def service(self):\n",
        "    print(\" the payable due 9653\")\n",
        "    print()\n",
        "    print(\"Outstanding limit is 13500\")\n",
        "    print()\n",
        "\n",
        "class loan:\n",
        "  def _init__(self,pin):\n",
        "    self.pin = pin\n",
        "  def loan_amount(self):\n",
        "    print(\"existing balance to be paid this month is 8960\")\n",
        "\n",
        "\n",
        "class amount(bank,loan):\n",
        "  def __init__(self,pin):\n",
        "    debit.__init__(self,pin)\n",
        "  def amount_payable(self):\n",
        "    debit_services.selection(self)\n",
        "    print()\n",
        "    credit_services.service(self)\n",
        "    print()\n",
        "    loan.loan_amount(self)\n",
        "\n",
        "debt = debit(7966)\n",
        "debt_serv = debit_services(7966)\n",
        "cred = credit_services(7966)\n",
        "amo = amount(7966)\n",
        "\n",
        "\n",
        "debt.display()\n",
        "debt_serv.selection()\n",
        "cred.service()\n",
        "amo.amount_payable()\n",
        "\n",
        "\n",
        "\n",
        "\n",
        "\n",
        "\n",
        "\n"
      ]
    },
    {
      "cell_type": "code",
      "source": [
        "class simple:\n",
        "   def add(self, a, b):\n",
        "      x = a+b\n",
        "      return x\n",
        "   def add(self, a, b, c):\n",
        "      x = a+b+c\n",
        "      return x\n",
        "\n",
        "obj1 = simple()\n",
        "\n",
        "print (obj1.add(10,20,30))\n",
        "print (obj1.add(10,20))"
      ],
      "metadata": {
        "id": "5miFbLtOWfhY"
      },
      "execution_count": null,
      "outputs": []
    },
    {
      "cell_type": "code",
      "source": [
        "class Fruit:\n",
        "  def show(self):\n",
        "    print(\"Fruits are healthy foods\")\n",
        "class Apple(Fruit):\n",
        "  def show(self):\n",
        "    print(\"Apple is good for heart\")\n",
        "class Orange(Fruit):\n",
        "  def show(self):\n",
        "    print(\"Orange is good for blood vessels\")\n",
        "\n",
        "app = Apple()\n",
        "oran = Orange()\n",
        "frui = Fruit()\n",
        "\n",
        "print(app.show())\n",
        "print(oran.show())\n",
        "print(frui.show())"
      ],
      "metadata": {
        "colab": {
          "base_uri": "https://localhost:8080/"
        },
        "id": "GMYT5kusWgZN",
        "outputId": "fe887f96-f12d-44bb-b1ce-a1a0784c4aee"
      },
      "execution_count": 27,
      "outputs": [
        {
          "output_type": "stream",
          "name": "stdout",
          "text": [
            "Apple is good for heart\n",
            "None\n",
            "Orange is good for blood vessels\n",
            "None\n",
            "Fruits are healthy foods\n",
            "None\n"
          ]
        }
      ]
    }
  ]
}