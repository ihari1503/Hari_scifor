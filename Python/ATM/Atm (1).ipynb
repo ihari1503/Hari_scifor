{
  "nbformat": 4,
  "nbformat_minor": 0,
  "metadata": {
    "colab": {
      "provenance": []
    },
    "kernelspec": {
      "name": "python3",
      "display_name": "Python 3"
    },
    "language_info": {
      "name": "python"
    }
  },
  "cells": [
    {
      "cell_type": "code",
      "execution_count": 37,
      "metadata": {
        "colab": {
          "base_uri": "https://localhost:8080/"
        },
        "id": "5OwhFZfgJzOx",
        "outputId": "9d22872f-8ee0-4cff-91cb-23c8cd99fa61"
      },
      "outputs": [
        {
          "output_type": "stream",
          "name": "stdout",
          "text": [
            "Welcome to the Bank services\n",
            "Enter the pin Number8503\n",
            "Valid pin\n",
            "1.Withdraw , 2.Deposit (1 or 2)1\n",
            "Enter the amount to be withdraw4596\n",
            "Balance = 55404\n"
          ]
        }
      ],
      "source": [
        "class bank:\n",
        "  balance = 60000\n",
        "  print(\"Welcome to the Bank services\")\n",
        "  pin = input(\"Enter the pin Number\")\n",
        "\n",
        "  import sys\n",
        "  if (len(pin)==4):\n",
        "    print(\"Valid pin\")\n",
        "\n",
        "  if (len(pin)!=4):\n",
        "    print(\"Invalid pin\")\n",
        "    sys.exit()\n",
        "\n",
        "\n",
        "\n",
        "\n",
        "  choice = int(input(\"1.Withdraw , 2.Deposit (1 or 2)\"))\n",
        "  if choice==1:\n",
        "\n",
        "    def withdrawl(balance):\n",
        "\n",
        "\n",
        "      amount_withdraw = int(input(\"Enter the amount to be withdraw\"))\n",
        "      balance = balance - amount_withdraw\n",
        "      print(f\"Balance = {balance}\")\n",
        "    obj = withdrawl(60000)\n",
        "  elif choice==2:\n",
        "    def deposit(balance):\n",
        "      amount_deposit = int(input(\"Enter the amount to be deposited\"))\n",
        "      balance = balance + amount_deposit\n",
        "      print(f\"Balance = {balance}\")\n",
        "    obj1 = deposit(60000)\n",
        "  else:\n",
        "    print(\"invalid input\")\n",
        "\n",
        "\n"
      ]
    }
  ]
}