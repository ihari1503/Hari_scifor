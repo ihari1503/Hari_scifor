{
  "nbformat": 4,
  "nbformat_minor": 0,
  "metadata": {
    "colab": {
      "provenance": []
    },
    "kernelspec": {
      "name": "python3",
      "display_name": "Python 3"
    },
    "language_info": {
      "name": "python"
    }
  },
  "cells": [
    {
      "cell_type": "code",
      "execution_count": 16,
      "metadata": {
        "colab": {
          "base_uri": "https://localhost:8080/"
        },
        "id": "sXlTiZQ5gS5x",
        "outputId": "26bf64d8-d290-4e84-9f61-3a6e929bb21c"
      },
      "outputs": [
        {
          "output_type": "stream",
          "name": "stdout",
          "text": [
            "one\n",
            "one every\n",
            "one every Hi\n"
          ]
        }
      ],
      "source": [
        "#Reverse a string\n",
        "\n",
        "\n",
        "a = \"Hi every one\"\n",
        "r = []\n",
        "s = a.split()[::-1]\n",
        "for i in s:\n",
        "  r.append(i)\n",
        "  print(\" \".join(r))\n"
      ]
    },
    {
      "cell_type": "code",
      "source": [
        "#Add or replace any string by another\n",
        "\n",
        "def change():\n",
        "  a = \"Hello buddies have a nice day\"\n",
        "  c = input(\"the string that to be replaced\")\n",
        "  b = a.replace(\"Hello\",c)\n",
        "  return b\n",
        "ch = change()\n",
        "print(ch)\n"
      ],
      "metadata": {
        "colab": {
          "base_uri": "https://localhost:8080/"
        },
        "id": "WyWM_F1tlk88",
        "outputId": "cf57f0a5-50c5-49a5-a450-edadce4a0d35"
      },
      "execution_count": 19,
      "outputs": [
        {
          "output_type": "stream",
          "name": "stdout",
          "text": [
            "the string that to be replacedGO BACK\n",
            "GO BACK buddies have a nice day\n"
          ]
        }
      ]
    },
    {
      "cell_type": "code",
      "source": [
        "#occurence of the alphabet\n",
        "\n",
        "st = input(\"Enter the string\")\n",
        "d = input(\"enter the character whose occurence need to be checked\")\n",
        "c =0\n",
        "for i in s:\n",
        "  if i==d:\n",
        "    c = c+1\n",
        "    print(c)\n",
        "\n",
        "\n"
      ],
      "metadata": {
        "colab": {
          "base_uri": "https://localhost:8080/"
        },
        "id": "j4b9CNupmfcG",
        "outputId": "d43f27d2-a2e8-4f37-da7c-07d1a0bf8131"
      },
      "execution_count": 33,
      "outputs": [
        {
          "name": "stdout",
          "output_type": "stream",
          "text": [
            "Enter the stringj\n",
            "enter the character whose occurence need to be checkedk\n"
          ]
        }
      ]
    },
    {
      "cell_type": "code",
      "source": [
        "n=\"This is a python language\"\n",
        "\n",
        "s=n.split(\" \")\n",
        "for i in s:\n",
        "  if len(i)%2==0:\n",
        "    print(i)"
      ],
      "metadata": {
        "colab": {
          "base_uri": "https://localhost:8080/"
        },
        "id": "g41bpbFwp1VJ",
        "outputId": "873a9e44-302c-4699-fc8f-17ce1312e799"
      },
      "execution_count": 34,
      "outputs": [
        {
          "output_type": "stream",
          "name": "stdout",
          "text": [
            "This\n",
            "is\n",
            "python\n",
            "language\n"
          ]
        }
      ]
    },
    {
      "cell_type": "code",
      "source": [
        "test_str = 'Pythonlanguage'\n",
        "\n",
        "\n",
        "print(\"The original string is : \" + str(test_str))\n",
        "\n",
        "\n",
        "hlf_idx = len(test_str) // 2\n",
        "\n",
        "res = ''\n",
        "for idx in range(len(test_str)):\n",
        "\n",
        "\n",
        "    if idx >= hlf_idx:\n",
        "        res += test_str[idx].upper()\n",
        "    else:\n",
        "        res += test_str[idx]\n",
        "print(\"The resultant string : \" + str(res))"
      ],
      "metadata": {
        "colab": {
          "base_uri": "https://localhost:8080/"
        },
        "id": "4Xrl-JN3rASq",
        "outputId": "578a2360-e4a8-419a-d3c2-ed4e31c1c6a1"
      },
      "execution_count": 37,
      "outputs": [
        {
          "output_type": "stream",
          "name": "stdout",
          "text": [
            "The original string is : Pythonlanguage\n",
            "The resultant string : PythonlANGUAGE\n"
          ]
        }
      ]
    }
  ]
}