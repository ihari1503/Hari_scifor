{
  "nbformat": 4,
  "nbformat_minor": 0,
  "metadata": {
    "colab": {
      "provenance": []
    },
    "kernelspec": {
      "name": "python3",
      "display_name": "Python 3"
    },
    "language_info": {
      "name": "python"
    }
  },
  "cells": [
    {
      "cell_type": "code",
      "execution_count": null,
      "metadata": {
        "id": "OorLO-R7_x68"
      },
      "outputs": [],
      "source": []
    },
    {
      "cell_type": "markdown",
      "source": [
        "1.Encapsulation: Bundles data and methods together within a class protecting data integrity and promoting modularity\n",
        "\n",
        "\n",
        "eg:\n",
        "  school bag it bundles all the books,pen and other essential things in one single thing"
      ],
      "metadata": {
        "id": "nGs8Qlg49eVB"
      }
    },
    {
      "cell_type": "code",
      "source": [
        "class student:\n",
        "  def __init__(self,name,studentid,present_days):\n",
        "    self.name = name\n",
        "    self.__studentid = studentid\n",
        "    self.present_days = present_days\n",
        "\n",
        "  def getstdid(self):\n",
        "    return self.__studentid\n",
        "\n",
        "  def attend(self):\n",
        "\n",
        "    print(self.present_days)\n",
        "\n",
        "stt = student(\"Aayush\",\"SD1256\",57)\n",
        "print(stt.attend())"
      ],
      "metadata": {
        "id": "oz38o84L9iQ1"
      },
      "execution_count": null,
      "outputs": []
    },
    {
      "cell_type": "markdown",
      "source": [
        "2.Polymorphism: Allow objects of different class to respond to the same method call in different ways.\n",
        "\n",
        "  eg:\n",
        "    def function(a,b):\n",
        "       return a + b\n",
        "\n",
        "\n",
        "     value of a is 10 and b is 20 returns  30\n",
        "     value of a is \"hi\" and b is \"hello\" returns \"hi hello\"\n",
        "\n",
        "     so this function does both addition and concatenation\n",
        "    \n",
        "     "
      ],
      "metadata": {
        "id": "M-heUhwq9_jy"
      }
    },
    {
      "cell_type": "code",
      "source": [
        "class Dog():\n",
        "\n",
        "     def animal_kingdom(self):\n",
        "\n",
        "       print(\"Mammal\")\n",
        "\n",
        "     def legs(self):\n",
        "\n",
        "       print(\"Four\")\n",
        "\n",
        "class Lizard():\n",
        "\n",
        "     def animal_kingdom(self):\n",
        "\n",
        "       print(\"Mammal lizard\")\n",
        "\n",
        "     def legs(self):\n",
        "\n",
        "       print(\"Four\")\n",
        "\n",
        "def function1(obj):\n",
        "\n",
        "       obj.animal_kingdom()\n",
        "\n",
        "       obj.legs()\n",
        "\n",
        "obj_dog = Dog()\n",
        "\n",
        "obj_lizard = Lizard()\n",
        "\n",
        "function1(obj_dog)\n",
        "\n",
        "function1(obj_lizard)"
      ],
      "metadata": {
        "id": "aLSh-GOh-sxc"
      },
      "execution_count": null,
      "outputs": []
    },
    {
      "cell_type": "markdown",
      "source": [
        "3.Single level Inheritance: In this type of inheritance it only takes the methods and properties from a single base class to a derived class"
      ],
      "metadata": {
        "id": "jdq2d2GI_XLy"
      }
    },
    {
      "cell_type": "code",
      "source": [
        "class birds:\n",
        "  def sound(self):\n",
        "    return \"chirping\"\n",
        "\n",
        "class crow(birds):\n",
        "  def cry(self):\n",
        "    return \"KA KA\"\n",
        "\n",
        "ob = crow()\n",
        "print(ob.cry())\n",
        "print(ob.sound())"
      ],
      "metadata": {
        "colab": {
          "base_uri": "https://localhost:8080/"
        },
        "id": "ThXDjrIb_s8B",
        "outputId": "49c0b33e-c785-43c2-a698-61ac3a150964"
      },
      "execution_count": 1,
      "outputs": [
        {
          "output_type": "stream",
          "name": "stdout",
          "text": [
            "KA KA\n",
            "chirping\n"
          ]
        }
      ]
    },
    {
      "cell_type": "markdown",
      "source": [
        "4.Multiple level inheritance : in this type there will be more than one base class and the derived class will be having properties of all the base classes\n"
      ],
      "metadata": {
        "id": "azY1lkd2AotJ"
      }
    },
    {
      "cell_type": "code",
      "source": [
        "class vehicles:\n",
        "  def mode(self):\n",
        "    return \"Vehicles play an important role in transportation\"\n",
        "\n",
        "class manual:\n",
        "  def mode(self):\n",
        "    return \"walking and animals are the oldest way of transportation\"\n",
        "\n",
        "class plane(vehicles, manual):\n",
        "  def mode(self):\n",
        "    super().mode()\n",
        "    return \"air transport\"\n",
        "\n",
        "obj = plane()\n",
        "obj.mode()\n",
        ""
      ],
      "metadata": {
        "colab": {
          "base_uri": "https://localhost:8080/",
          "height": 36
        },
        "id": "GzrxvDJGA6E7",
        "outputId": "aa9f1bc3-23ad-4ee1-da73-6e1f8ab28f12"
      },
      "execution_count": 5,
      "outputs": [
        {
          "output_type": "execute_result",
          "data": {
            "text/plain": [
              "'air transport'"
            ],
            "application/vnd.google.colaboratory.intrinsic+json": {
              "type": "string"
            }
          },
          "metadata": {},
          "execution_count": 5
        }
      ]
    },
    {
      "cell_type": "markdown",
      "source": [
        "5.Multi level inheritance: in this type one derived class will have the property of the base class and there will be a further derived class which posses both the properties"
      ],
      "metadata": {
        "id": "RE7v3nmCCcpC"
      }
    },
    {
      "cell_type": "code",
      "source": [
        "class Fruits:\n",
        "    def health(self):\n",
        "        print(\"GOOD FOR HEALTH\")\n",
        "\n",
        "\n",
        "class Apple(Fruits):\n",
        "    def Color(self):\n",
        "        print(\"red and sweet\")\n",
        "\n",
        "\n",
        "class Orange(Apple):\n",
        "    def trait(self):\n",
        "        print(\"orange in color and sour taste\")\n",
        "\n",
        "\n",
        "\n",
        "fr = Orange()\n",
        "fr.trait()\n",
        "fr.Color()\n",
        "fr.health()\n",
        "\n"
      ],
      "metadata": {
        "colab": {
          "base_uri": "https://localhost:8080/"
        },
        "id": "80q87n6mC1XR",
        "outputId": "11788769-c7a8-4a60-da57-09c215ba065b"
      },
      "execution_count": 6,
      "outputs": [
        {
          "output_type": "stream",
          "name": "stdout",
          "text": [
            "orange in color and sour taste\n",
            "red and sweet\n",
            "GOOD FOR HEALTH\n"
          ]
        }
      ]
    },
    {
      "cell_type": "markdown",
      "source": [
        "6.Conditional Statements:\n",
        "               The statements in python which helps the user to execute a set of statements under a particular condition\n",
        "               .If the condition is true it will get executed otherwise will not get the desired result\n",
        "\n",
        "               eg:simple if,if...else,nested if"
      ],
      "metadata": {
        "id": "xnvhT7vEEPyl"
      }
    },
    {
      "cell_type": "code",
      "source": [
        "#simple if\n",
        "\n",
        "if 5>2:\n",
        "  print(\"Hi welcome to Python\")\n",
        "\n",
        "\n",
        "\n",
        "\n",
        "#if...else\n",
        "\n",
        "\n",
        "a = 10\n",
        "b = 20\n",
        "\n",
        "if (a>b):\n",
        "  print(\"b is smaller than a\")\n",
        "else:\n",
        "  print (\"a is smaller than b\")\n",
        "\n",
        "\n",
        "#Nested if\n",
        "\n",
        "\n",
        "a = 0\n",
        "b = 1\n",
        "\n",
        "if (a=b):\n",
        "  print(\"True\")\n",
        "if (a<b):\n",
        "  print(\"false\")\n",
        "if(a>b):\n",
        "  print(\"a is true b is false\")\n",
        "else:\n",
        "  print(\"not defined\")"
      ],
      "metadata": {
        "id": "Z5NKEcb1EvU6"
      },
      "execution_count": null,
      "outputs": []
    },
    {
      "cell_type": "markdown",
      "source": [
        "7.Decision making statements:\n",
        "    Statements used to make a certain things based on the conditions.\n",
        "\n",
        "    switch case is an example of decision making statement\n",
        "    "
      ],
      "metadata": {
        "id": "NIfYSkaoFSfV"
      }
    },
    {
      "cell_type": "code",
      "source": [
        "#Example\n",
        "\n",
        "def choice(b)\n",
        "  match a:\n",
        "    case 0:\n",
        "      print(\" tell about rain\")\n",
        "    case 1:\n",
        "      print(\" tell about sun\")\n",
        "    case 2:\n",
        "      print(\"tell about nature\")\n",
        "    case 3:\n",
        "      print(\"tell about the planetary system\")\n",
        "    case 4:\n",
        "      print(\"tell about computer and its uses\")\n",
        "    case default:\n",
        "      return \"no such choice\"\n",
        "ch = choice(3)\n",
        " print(ch)"
      ],
      "metadata": {
        "id": "YLQzc1VpKOQi"
      },
      "execution_count": null,
      "outputs": []
    },
    {
      "cell_type": "code",
      "source": [
        "#Question 8\n",
        "\n",
        "#FACTORIAL\n",
        "\n",
        "def fact(a):\n",
        "  f = 1\n",
        "\n",
        "  if a ==1 or a==0:\n",
        "    return f\n",
        "  else:\n",
        "    return  (a*fact(a-1))\n",
        "\n",
        "facto = fact(5)\n",
        "print(facto)\n",
        "\n",
        "\n",
        "\n",
        "\n",
        "\n"
      ],
      "metadata": {
        "colab": {
          "base_uri": "https://localhost:8080/"
        },
        "id": "5CVkSj3MF8WK",
        "outputId": "bd63dae5-63af-4c4c-f866-b0bfe689bb76"
      },
      "execution_count": 16,
      "outputs": [
        {
          "output_type": "stream",
          "name": "stdout",
          "text": [
            "120\n"
          ]
        }
      ]
    },
    {
      "cell_type": "markdown",
      "source": [
        "9.Functions:Functions are the block of code which runs when it is only called.\n",
        "            we can pass parameters in to the function.\n",
        "\n",
        "            "
      ],
      "metadata": {
        "id": "SfBjXhWvIj8r"
      }
    },
    {
      "cell_type": "code",
      "source": [
        "#Simple code for functions:\n",
        "\n",
        "def house(a): #function named house\n",
        "  return a\n",
        "\n",
        "ho = house(90) #envoking the function\n",
        "print(ho)\n",
        "print(\" check your House Number mentioned above\")"
      ],
      "metadata": {
        "colab": {
          "base_uri": "https://localhost:8080/"
        },
        "id": "enDWDa8FI6ae",
        "outputId": "3fc1b4b3-c453-4546-80ce-1ea759013528"
      },
      "execution_count": 21,
      "outputs": [
        {
          "output_type": "stream",
          "name": "stdout",
          "text": [
            "90\n",
            " check your House Number mentioned above\n"
          ]
        }
      ]
    },
    {
      "cell_type": "markdown",
      "source": [
        "10.5 pillars are there in OOPS.\n",
        "    objects\n",
        "    classes\n",
        "    encapsulation\n",
        "    polymorphism\n",
        "    inheritance"
      ],
      "metadata": {
        "id": "djb1jMQgJnF3"
      }
    }
  ]
}